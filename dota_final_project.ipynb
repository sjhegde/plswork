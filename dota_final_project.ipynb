{
 "cells": [
  {
   "cell_type": "markdown",
   "metadata": {},
   "source": [
    "# Toxicity in Online Gaming Communities\n",
    "#### Taichi Akiyama (taichia) and Sharika Hegde (sjhegde)\n",
    "\n",
    "The amount of data and user metrics stored in video game databases (particularly DoTA 2) is immense, and as users we can run a lot of computation on these informations to gain insight on players and how they interact with other. Most online gaming communities suffer from \"toxic\" communities. Toxicity in gamming communities is a broad topic. According to http://pcgamer.com, toxicity includes \"ragingover sub-optimal team compositions or under-performing teammates to slinging insults steeped in racism, sexism, and homophobia. [Toxicity] is a problem that has plagued gaming pretty much as long as we've been connecting our computers to play with and against each other online.\" Toxicity in gaming is so severe that many companies, including Blizzard, Riot, Twitch, and Discord have joined together to form the Fair Play Alliance (http://www.fairplayalliance.org/) to tackle and prevent player toxicity.\n",
    "\n",
    "Our original project involved detecting the toxicity of players and the effect of toxicity on win rates. We realized, however, that the raw data we were using was very poor in quality and was not easy to process. When playing video games, people do not usually use English words or complete sentences when communicating with teammates. Instead they use game jargon such as \"noob\" and \"bkb\" to communicate. Another problem we encountered was that a large part of the player base were non-english speakers. Because of this, we have scaled down our project to simply focus heavily on two NLP cleaning techniques and also some basic analysis using these techniques.\n",
    "\n",
    "\n",
    "### Project content\n",
    "- [Gathering Data](#scrape)\n",
    "- [Spell Check](#spelling)\n",
    "- [Normalization](#norm)\n",
    "- [Wikipedia Training and Testing Data](#train)\n",
    "- [Tf-idf Feature Extraction](#tf-idf)\n",
    "- [SVM Training and Validation](#svm_train) \n",
    "- [Naive Bayes Training](#bayes_train)\n",
    "- [Cleaning and Normalizing the DOTA data (threading)](#threading)\n",
    "- [Predictions (SVM and Naive Bayes)](#prediction)\n",
    "- [Visuals](#visuals)\n",
    "- [Conclusions](#conclusions)\n",
    "- [Resources](#resources)\n"
   ]
  },
  {
   "cell_type": "markdown",
   "metadata": {},
   "source": [
    "<a id='scrape'></a>\n",
    "For the beginning of the project, we need to collect data using 2 seperate APIs (everything can be done with 1 api, but OpenDota limits our requests to 50,000 a month, so we will only use that particular api when necessary). First, we setup our account to generate an API key on valve's server.\n",
    "\n",
    "To do this, head to https://steamcommunity.com/login/home/?goto=%2Fdev%2Fapikey, login to your steam account, and generate an api key. Then, store that key in a key.txt file."
   ]
  },
  {
   "cell_type": "markdown",
   "metadata": {},
   "source": [
    "## Gathering Data"
   ]
  },
  {
   "cell_type": "code",
   "execution_count": 287,
   "metadata": {
    "scrolled": false
   },
   "outputs": [],
   "source": [
    "import requests\n",
    "import json\n",
    "import time\n",
    "import copy\n",
    "import nltk\n",
    "from nltk.corpus import gutenberg, stopwords\n",
    "import re\n",
    "from collections import Counter\n",
    "import json\n",
    "import pandas as pd\n",
    "import spacy\n",
    "import sklearn\n",
    "import numpy as np\n",
    "from sklearn.naive_bayes import BernoulliNB\n",
    "import threading\n",
    "import random\n",
    "import numpy\n",
    "from matplotlib import pyplot\n",
    "\n",
    "\n",
    "with open(\"key.txt\", 'r') as f:\n",
    "    key = f.read()"
   ]
  },
  {
   "cell_type": "markdown",
   "metadata": {},
   "source": [
    "After generating the API key, we need to gather match IDs to grab player IDs, which we will use to grab the word cloud of each specific player. A word cloud is a dictionary of words where the keys are all words typed by that specific player and how many times it has been used. This function will give us metadata for the recent 500 matches that have been played on valve servers."
   ]
  },
  {
   "cell_type": "markdown",
   "metadata": {},
   "source": [
    "After generating the API key, we need to gather match IDs to grab player IDs, which we will use to grab the word cloud of each specific player. A word cloud is a dictionary of words where the keys are all words typed by that specific player and how many times it has been used. This function will give us metadata for the recent 500 matches that have been played on valve servers."
   ]
  },
  {
   "cell_type": "code",
   "execution_count": 2,
   "metadata": {
    "collapsed": true,
    "scrolled": true
   },
   "outputs": [],
   "source": [
    "#This will only get us recent 500 matches\n",
    "def retrieve_recent_match_data(key, start_at=None):\n",
    "    if start_at is None:\n",
    "        r = requests.get(\"https://api.steampowered.com/IDOTA2Match_570/GetMatchHistory/V001/?key=\" + key + \"&min_players=10\")\n",
    "        if r.status_code != 200:\n",
    "            raise Exception(\"Servers might be down\")\n",
    "        else:\n",
    "            return json.loads(r.text)\n",
    "    else:\n",
    "        r = requests.get(\"https://api.steampowered.com/IDOTA2Match_570/GetMatchHistory/V001/?start_at_match_id=\" \n",
    "                         + str(start_at) + \"&key=\" + key + \"&min_players=10\")\n",
    "        if r.status_code != 200:\n",
    "            raise Exception(\"Either match id was bad or servers might be down\")\n",
    "        else:\n",
    "            return json.loads(r.text)"
   ]
  },
  {
   "cell_type": "markdown",
   "metadata": {},
   "source": [
    "We know that players who choose not to share their data publicly have an account id of 4294967295, so we ignore those."
   ]
  },
  {
   "cell_type": "code",
   "execution_count": 3,
   "metadata": {},
   "outputs": [
    {
     "name": "stdout",
     "output_type": "stream",
     "text": [
      "271\n",
      "535\n",
      "811\n",
      "1088\n",
      "1370\n",
      "1387\n"
     ]
    }
   ],
   "source": [
    "private_id = 4294967295 #players that we can not get info from\n",
    "unique_id = set([])\n",
    "least_recent = None\n",
    "leave_loop = False\n",
    "while leave_loop is False:\n",
    "    matches = retrieve_recent_match_data(key, start_at = least_recent)\n",
    "    if matches['result']['results_remaining'] == 0:\n",
    "        leave_loop = True\n",
    "    for m in matches['result']['matches']:\n",
    "        least_recent = m['match_id']\n",
    "        for p in m['players']:\n",
    "            if 'account_id' in p and p['account_id'] != private_id:\n",
    "                unique_id.add(p['account_id'])\n",
    "    time.sleep(0.9)\n",
    "    print(len(unique_id))"
   ]
  },
  {
   "cell_type": "markdown",
   "metadata": {},
   "source": [
    "In a real world enviroment, we would need more than 1000 unique player ID's, so we will branch off and search for recent games played by the initial scrape and find other unique players."
   ]
  },
  {
   "cell_type": "code",
   "execution_count": 22,
   "metadata": {
    "collapsed": true
   },
   "outputs": [],
   "source": [
    "def find_player_recent_match(key, player_id, start_at = None):\n",
    "    if start_at is None:\n",
    "        r = requests.get(\"https://api.steampowered.com/IDOTA2Match_570/GetMatchHistory/V001/?key=\" + key + \n",
    "                         \"&min_players=10&account_id=\"+str(player_id))\n",
    "        if r.status_code != 200:\n",
    "            raise Exception(\"Servers might be down\")\n",
    "        else:\n",
    "            return json.loads(r.text)\n",
    "    else:\n",
    "        r = requests.get(\"https://api.steampowered.com/IDOTA2Match_570/GetMatchHistory/V001/?start_at_match_id=\" \n",
    "                         + str(start_at) + \"&key=\" + key + \"&min_players=10&account_id=\"+str(player_id))\n",
    "        if r.status_code != 200:\n",
    "            raise Exception(\"Either match id was bad or servers might be down\")\n",
    "        else:\n",
    "            return json.loads(r.text)"
   ]
  },
  {
   "cell_type": "code",
   "execution_count": 6,
   "metadata": {
    "scrolled": true
   },
   "outputs": [
    {
     "name": "stdout",
     "output_type": "stream",
     "text": [
      "1776\n",
      "2158\n",
      "2555\n",
      "2946\n",
      "3302\n",
      "3313\n",
      "3485\n",
      "3800\n",
      "4047\n",
      "4176\n",
      "4524\n",
      "4908\n",
      "5247\n",
      "5713\n",
      "6208\n",
      "6231\n",
      "6402\n",
      "6538\n",
      "6715\n",
      "6830\n",
      "7011\n",
      "7019\n",
      "7243\n",
      "7555\n",
      "7932\n",
      "7986\n",
      "8160\n",
      "8310\n",
      "8495\n",
      "8698\n",
      "9037\n",
      "9054\n",
      "9400\n",
      "9776\n",
      "10186\n",
      "10569\n",
      "10904\n",
      "10919\n",
      "11060\n",
      "11197\n",
      "11325\n",
      "11492\n",
      "11632\n",
      "11637\n",
      "12022\n",
      "12410\n",
      "12772\n",
      "13143\n",
      "13532\n",
      "13549\n",
      "13686\n",
      "13822\n",
      "14015\n",
      "14271\n",
      "14490\n",
      "14505\n",
      "14867\n",
      "15227\n",
      "15628\n",
      "15973\n",
      "16335\n",
      "16353\n",
      "16644\n",
      "16877\n",
      "17209\n",
      "17544\n",
      "17886\n",
      "18191\n",
      "18439\n",
      "18470\n",
      "18783\n",
      "19142\n",
      "19528\n",
      "19985\n",
      "20436\n",
      "20460\n",
      "21043\n",
      "21488\n",
      "21871\n",
      "22240\n",
      "22638\n",
      "22652\n",
      "22655\n",
      "22869\n",
      "23112\n",
      "23329\n",
      "23547\n",
      "23792\n",
      "23804\n",
      "24020\n",
      "24171\n",
      "24332\n",
      "24541\n",
      "24791\n",
      "24802\n",
      "24966\n",
      "25123\n",
      "25304\n",
      "25488\n",
      "25701\n",
      "25708\n",
      "26236\n",
      "26840\n",
      "27463\n",
      "27992\n",
      "28563\n",
      "28588\n",
      "29268\n",
      "29893\n",
      "30521\n",
      "31129\n",
      "31749\n",
      "31766\n",
      "32288\n",
      "32863\n",
      "33378\n",
      "33882\n",
      "34349\n",
      "34370\n",
      "34557\n",
      "34724\n",
      "34884\n",
      "35027\n",
      "35223\n",
      "35230\n",
      "35804\n",
      "36371\n",
      "36929\n",
      "37494\n",
      "38020\n",
      "38041\n",
      "38402\n",
      "38730\n",
      "39097\n",
      "39540\n",
      "40050\n",
      "40076\n",
      "40537\n",
      "40935\n",
      "41344\n",
      "41789\n",
      "42204\n",
      "42219\n",
      "42268\n",
      "42591\n",
      "42925\n",
      "43260\n",
      "43553\n",
      "43869\n",
      "43883\n",
      "44128\n",
      "44332\n",
      "44569\n",
      "44811\n",
      "45040\n",
      "45047\n",
      "45611\n",
      "46162\n",
      "46702\n",
      "47245\n",
      "47805\n",
      "47826\n",
      "48101\n",
      "48353\n",
      "48612\n",
      "48866\n",
      "49187\n",
      "49202\n",
      "49699\n",
      "50168\n",
      "50664\n",
      "51201\n",
      "51667\n",
      "51685\n"
     ]
    }
   ],
   "source": [
    "temp_set = copy.deepcopy(unique_id)\n",
    "for account_id in temp_set:\n",
    "    leave_loop = False\n",
    "    least_recent = None\n",
    "    while leave_loop is False:\n",
    "        matches = find_player_recent_match(key, account_id, start_at = least_recent)\n",
    "        if matches['result']['results_remaining'] == 0:\n",
    "            leave_loop = True\n",
    "        for m in matches['result']['matches']:\n",
    "            least_recent = m['match_id']\n",
    "            for p in m['players']:\n",
    "                if 'account_id' in p and p['account_id'] != private_id:\n",
    "                    unique_id.add(p['account_id'])\n",
    "        time.sleep(0.9)\n",
    "        print(len(unique_id))\n",
    "    if len(unique_id) > 50000:\n",
    "        break"
   ]
  },
  {
   "cell_type": "markdown",
   "metadata": {},
   "source": [
    "We now save this list of player ID's before we move on. You can easily reload the data now with a simple with open() statement."
   ]
  },
  {
   "cell_type": "code",
   "execution_count": 5,
   "metadata": {},
   "outputs": [
    {
     "name": "stdout",
     "output_type": "stream",
     "text": [
      "[287834122, 392167434, 18874380, 376700941, 116654092, 230686737, 295567377, 85065746, 180092949, 142737431]\n"
     ]
    }
   ],
   "source": [
    "# with open(\"player_id.txt\", 'w') as f:\n",
    "#     for p in unique_id:\n",
    "#         f.write(str(p))\n",
    "#         f.write(\"\\n\")\n",
    "unique_id = []\n",
    "with open(\"player_id.txt\", 'r') as f:\n",
    "    for line in f:\n",
    "        unique_id.append(int(line))\n",
    "    \n",
    "print(unique_id[0:10])"
   ]
  },
  {
   "cell_type": "code",
   "execution_count": 10,
   "metadata": {},
   "outputs": [
    {
     "ename": "KeyboardInterrupt",
     "evalue": "",
     "output_type": "error",
     "traceback": [
      "\u001b[0;31m---------------------------------------------------------------------------\u001b[0m",
      "\u001b[0;31mKeyboardInterrupt\u001b[0m                         Traceback (most recent call last)",
      "\u001b[0;32m<ipython-input-10-911275bb3ab7>\u001b[0m in \u001b[0;36m<module>\u001b[0;34m()\u001b[0m\n\u001b[1;32m     32\u001b[0m         \u001b[0;32mcontinue\u001b[0m\u001b[0;34m\u001b[0m\u001b[0m\n\u001b[1;32m     33\u001b[0m     \u001b[0muser_word_cloud\u001b[0m\u001b[0;34m[\u001b[0m\u001b[0mall_ids\u001b[0m\u001b[0;34m[\u001b[0m\u001b[0mi\u001b[0m\u001b[0;34m]\u001b[0m\u001b[0;34m]\u001b[0m \u001b[0;34m=\u001b[0m \u001b[0mwords\u001b[0m\u001b[0;34m[\u001b[0m\u001b[0;34m'my_word_counts'\u001b[0m\u001b[0;34m]\u001b[0m\u001b[0;34m\u001b[0m\u001b[0m\n\u001b[0;32m---> 34\u001b[0;31m     \u001b[0mtime\u001b[0m\u001b[0;34m.\u001b[0m\u001b[0msleep\u001b[0m\u001b[0;34m(\u001b[0m\u001b[0;36m2\u001b[0m\u001b[0;34m)\u001b[0m\u001b[0;34m\u001b[0m\u001b[0m\n\u001b[0m\u001b[1;32m     35\u001b[0m     \u001b[0mwin_rate\u001b[0m \u001b[0;34m=\u001b[0m \u001b[0mget_win_rate\u001b[0m\u001b[0;34m(\u001b[0m\u001b[0mall_ids\u001b[0m\u001b[0;34m[\u001b[0m\u001b[0mi\u001b[0m\u001b[0;34m]\u001b[0m\u001b[0;34m)\u001b[0m\u001b[0;34m\u001b[0m\u001b[0m\n\u001b[1;32m     36\u001b[0m     \u001b[0;32mif\u001b[0m \u001b[0mtype\u001b[0m\u001b[0;34m(\u001b[0m\u001b[0mwin_rate\u001b[0m\u001b[0;34m)\u001b[0m \u001b[0;32mis\u001b[0m \u001b[0mint\u001b[0m\u001b[0;34m:\u001b[0m\u001b[0;34m\u001b[0m\u001b[0m\n",
      "\u001b[0;31mKeyboardInterrupt\u001b[0m: "
     ]
    }
   ],
   "source": [
    "#Nested dictionary, key1 = player_id, key2 = my_word_counts (things players has said), key3 = all_word_counts (things\n",
    "#players have heard)\n",
    "user_word_cloud = {}\n",
    "win_loss = {}\n",
    "def get_word_cloud(player_id):\n",
    "    r = requests.get(\"https://api.opendota.com/api/players/\" + str(player_id) +\"/wordcloud\")\n",
    "    if r.status_code == 500:\n",
    "        raise Exception(\"servers are down\")\n",
    "    if r.status_code != 200:\n",
    "        return r.status_code\n",
    "    else:\n",
    "        return json.loads(r.text)\n",
    "\n",
    "def get_win_rate(player_id):\n",
    "    r = requests.get(\"https://api.opendota.com/api/players/\" + str(player_id)+ \"/wl\")\n",
    "    if r.status_code == 500:\n",
    "        raise Exception(\"servers are down\")\n",
    "    if r.status_code != 200:\n",
    "        return r.status_code\n",
    "    else:\n",
    "        return json.loads(r.text)    \n",
    "    \n",
    "all_ids = list(unique_id)\n",
    "counter = 0\n",
    "for i in range(500):\n",
    "    words = get_word_cloud(all_ids[i])\n",
    "    if type(words) is int:\n",
    "        print(str(all_ids[i]) + \" caused a \" + str(words) + \" response\")\n",
    "        counter += 1\n",
    "        continue\n",
    "    elif len(words[\"my_word_counts\"]) == 0:\n",
    "        continue\n",
    "    user_word_cloud[all_ids[i]] = words['my_word_counts']\n",
    "    time.sleep(2)\n",
    "    win_rate = get_win_rate(all_ids[i])\n",
    "    if type(win_rate) is int:\n",
    "        print(str(all_ids[i]) + \" caused a \" + str(words) + \" response\")\n",
    "        counter += 1\n",
    "        continue\n",
    "    win_loss[all_ids[i]] = win_rate\n",
    "    time.sleep(2)"
   ]
  },
  {
   "cell_type": "code",
   "execution_count": 12,
   "metadata": {
    "collapsed": true
   },
   "outputs": [],
   "source": [
    "with open(\"complete_word_cloud.json\", 'w') as f:\n",
    "    json.dump(user_word_cloud, f)\n",
    "with open(\"win_loss.json\", 'w') as f:\n",
    "    json.dump(win_loss, f)"
   ]
  },
  {
   "cell_type": "code",
   "execution_count": 11,
   "metadata": {},
   "outputs": [
    {
     "name": "stdout",
     "output_type": "stream",
     "text": [
      "169\n",
      "168\n",
      "0\n"
     ]
    }
   ],
   "source": [
    "print(len(user_word_cloud))\n",
    "print(len(win_loss))\n",
    "print(counter) ##check to see how many failures we got"
   ]
  },
  {
   "cell_type": "markdown",
   "metadata": {},
   "source": [
    "## Cleaning\n",
    "Now that we have gathered all of the raw data we will begin the cleaning process. First we begin by creating a list of words that are commonly used in the game but are not part of the English language. Many of these words were found at https://dota2.gamepedia.com/Glossary."
   ]
  },
  {
   "cell_type": "code",
   "execution_count": 56,
   "metadata": {
    "collapsed": true
   },
   "outputs": [],
   "source": [
    "#Add special game words into list: https://dota2.gamepedia.com/Glossary\n",
    "\n",
    "game_words = []\n",
    "game_words.append(\"AA\")\n",
    "game_words.append(\"AC\")\n",
    "game_words.append(\"Aggro\")\n",
    "game_words.append(\"AM\")\n",
    "game_words.append(\"AoE\")\n",
    "game_words.append(\"AW\")\n",
    "game_words.append(\"bb\")\n",
    "game_words.append(\"bd\")\n",
    "game_words.append(\"bf\")\n",
    "game_words.append(\"bh\")\n",
    "game_words.append(\"bkb\")\n",
    "game_words.append(\"bm\")\n",
    "game_words.append(\"brb\")\n",
    "game_words.append(\"bs\")\n",
    "game_words.append(\"CC\")\n",
    "game_words.append(\"cc\")\n",
    "game_words.append(\"cd\")\n",
    "game_words.append(\"ck\")\n",
    "game_words.append(\"cm\")\n",
    "game_words.append(\"dd\")\n",
    "game_words.append(\"cs\")\n",
    "game_words.append(\"deward\")\n",
    "game_words.append(\"dgu\")\n",
    "game_words.append(\"dk\")\n",
    "game_words.append(\"dp\")\n",
    "game_words.append(\"DoT\")\n",
    "game_words.append(\"epi\")\n",
    "game_words.append(\"ES\")\n",
    "game_words.append(\"ET\")\n",
    "game_words.append(\"EXP\")\n",
    "game_words.append(\"XP\")\n",
    "game_words.append(\"EZ\")\n",
    "game_words.append(\"FB\")\n",
    "game_words.append(\"FF\")\n",
    "game_words.append(\"FoW\")\n",
    "game_words.append(\"Furion\")\n",
    "game_words.append(\"Gank\")\n",
    "game_words.append(\"gg\")\n",
    "game_words.append(\"ggwp\")\n",
    "game_words.append(\"gj\")\n",
    "game_words.append(\"glhf\")\n",
    "game_words.append(\"Guinsoo\")\n",
    "game_words.append(\"HH\")\n",
    "game_words.append(\"HP\")\n",
    "game_words.append(\"inc\")\n",
    "game_words.append(\"Janggo\")\n",
    "game_words.append(\"KotL\")\n",
    "game_words.append(\"KS\")\n",
    "game_words.append(\"LC\")\n",
    "game_words.append(\"Leoric\")\n",
    "game_words.append(\"Lothar\")\n",
    "game_words.append(\"LS\")\n",
    "game_words.append(\"LSA\")\n",
    "game_words.append(\"mic\")\n",
    "game_words.append(\"mls\")\n",
    "game_words.append(\"MIA\")\n",
    "game_words.append(\"MK\")\n",
    "game_words.append(\"MKB\")\n",
    "game_words.append(\"MP\")\n",
    "game_words.append(\"MS\")\n",
    "game_words.append(\"N'aix\")\n",
    "game_words.append(\"Nerub\")\n",
    "game_words.append(\"nj\")\n",
    "game_words.append(\"OC\")\n",
    "game_words.append(\"OD\")\n",
    "game_words.append(\"offlane\")\n",
    "game_words.append(\"offlaner\")\n",
    "game_words.append(\"omni\")\n",
    "game_words.append(\"oom\")\n",
    "game_words.append(\"PA\")\n",
    "game_words.append(\"PL\")\n",
    "game_words.append(\"PP\")\n",
    "game_words.append(\"PotM\")\n",
    "game_words.append(\"proc\")\n",
    "game_words.append(\"QoP\")\n",
    "game_words.append(\"rax\")\n",
    "game_words.append(\"recrow\")\n",
    "game_words.append(\"RNG\")\n",
    "game_words.append(\"Ro3\")\n",
    "game_words.append(\"rosh\")\n",
    "game_words.append(\"rs\")\n",
    "game_words.append(\"RP\")\n",
    "game_words.append(\"SB\")\n",
    "game_words.append(\"SF\")\n",
    "game_words.append(\"sheepstick\")\n",
    "game_words.append(\"SK\")\n",
    "game_words.append(\"SnY\")\n",
    "game_words.append(\"SS\")\n",
    "game_words.append(\"TA\")\n",
    "game_words.append(\"TB\")\n",
    "game_words.append(\"TP\")\n",
    "game_words.append(\"UAM\")\n",
    "game_words.append(\"Ult\")\n",
    "game_words.append(\"Ulti\")\n",
    "game_words.append(\"VS\")\n",
    "game_words.append(\"WD\")\n",
    "game_words.append(\"wp\")\n",
    "game_words.append(\"WR\")\n",
    "game_words.append(\"WW\")"
   ]
  },
  {
   "cell_type": "markdown",
   "metadata": {},
   "source": [
    "After scraping all of this data and saving it, we begin our analysis:"
   ]
  },
  {
   "cell_type": "code",
   "execution_count": 303,
   "metadata": {
    "collapsed": true
   },
   "outputs": [],
   "source": [
    "with open(\"complete_word_cloud.json\", 'r') as f:\n",
    "    complete_word_cloud = json.load(f)\n",
    "ids = []\n",
    "with open(\"player_id.txt\", 'r') as f:\n",
    "    for line in f.readlines():\n",
    "        ids.append(line)\n",
    "\n",
    "with open(\"win_loss.json\", 'r') as w:\n",
    "    win_loss = json.load(w)"
   ]
  },
  {
   "cell_type": "markdown",
   "metadata": {},
   "source": [
    "Most of the words used in dota are slang, abbreviations, profanity, or are completely misspelled. We started cleaning the data by using a spell check on all the words first. The spell check works as follows.\n",
    "\n",
    "<a id='spelling'></a>\n",
    "## Spell Check \n",
    "### Probability Theory\n",
    "The function `spell_check` tries to look for the most likely spelling correction for the word. Meaning, the function tries to maximize the probability that the output is the correct spelling correction given the original word. More details on the math behind this spelling corrector can be found here: http://norvig.com/spell-correct.html The four parts of this expression are:\n",
    "\n",
    "##### Candidate Model: c ∈ candidates\n",
    "This all the words that are one (or more) corrections away from the word. These are the possible corrections we should consider.\n",
    "##### Language Model: P(c) \n",
    "The probability that c appears in text. For this example we use Wikipedia comments which tend to have lots of slang as well, so for example if the word \"rip\" shows up in .01% of the input corpus then we'd expect to see P('rip') = .0001.\n",
    "##### Error Model: P(a|c)\n",
    "This characterizes the probability that a is typed when the author means c. The example from norvig.com is that \n",
    "P(teh|the) is relatively high, but P(theeexyz|the) would be very low.\n",
    "##### Selection Mechanism: argmax \n",
    "We should choose the one with the highest error and language model probability.\n",
    "\n",
    "### The Corpus\n",
    "The corpus we are using, `train.csv`, has a large number of Wikipedia comments. This file will be discussed more in the following."
   ]
  },
  {
   "cell_type": "code",
   "execution_count": 366,
   "metadata": {},
   "outputs": [
    {
     "name": "stdout",
     "output_type": "stream",
     "text": [
      "stupid\n",
      "toxcit\n"
     ]
    }
   ],
   "source": [
    "def words(text): return re.findall(r'\\w+', text.lower())\n",
    "\n",
    "with open('train_1000.csv', 'r') as f:\n",
    "    #SPELL CHECK ONLY RUNS ON DOTA DATA\n",
    "    text = f.read()\n",
    "    wiki_words = Counter(text.split())\n",
    "\n",
    "N=sum(wiki_words.values())\n",
    "\n",
    "def P(word):\n",
    "    #language model\n",
    "    return wiki_words[word] / N\n",
    "\n",
    "def spell_check(word):\n",
    "    #selection model\n",
    "    words = list(alt_spellings(word))\n",
    "    P_words = [P(i) for i in words]\n",
    "    index = P_words.index(max(P_words))\n",
    "    return words[index]\n",
    "\n",
    "def alt_spellings(word):\n",
    "    #candidate model\n",
    "    if known([word]) != set(): return known([word])\n",
    "    elif known(r1_edits(word)) != set(): return known(r1_edits(word))\n",
    "    elif known(r2_edits(word)) != set(): return known(r2_edits(word))\n",
    "    return [word]\n",
    "\n",
    "def known(words):\n",
    "    #error model\n",
    "    return set(w for w in words if w in wiki_words)\n",
    "\n",
    "def r1_edits(word):\n",
    "    letters    = 'abcdefghijklmnopqrstuvwxyz'\n",
    "    splits     = [(word[:i], word[i:])    for i in range(len(word) + 1)]\n",
    "    deletes    = [word[:i] + word[i+1:]   for i in range(len(word))]\n",
    "    switch     = [word[:i] + word[i+1] + word[i] + word[i+2:]   for i in range(len(word) - 1)]\n",
    "    replace    = [word[:i] + c + word[i+1:]  for i in range(len(word)) for c in letters]\n",
    "    insert     = [(word[:i] + c + word[i:])    for i in range(len(word) + 1) for c in letters]\n",
    "\n",
    "    return set(deletes + switch + replace + insert)\n",
    "\n",
    "def r2_edits(word):\n",
    "    return (e2 for e1 in r1_edits(word) for e2 in r1_edits(e1))\n",
    "\n",
    "print(spell_check('stuuupid'))\n",
    "print(spell_check('toxcit'))"
   ]
  },
  {
   "cell_type": "markdown",
   "metadata": {
    "collapsed": true
   },
   "source": [
    "<a id='norm'></a>\n",
    "## Normalizing\n",
    "There are many techniques to normalization, the two most common forms include lemmatization and stemming. Here we use lemmatization. Lemmatization gets the basic word form, or lemma, by replacing the suffix of a word with a different one or completely removing the suffix altogether."
   ]
  },
  {
   "cell_type": "code",
   "execution_count": 367,
   "metadata": {},
   "outputs": [],
   "source": [
    "nlp = spacy.load(\"en\", disable=['parser', 'tagger', 'ner'])\n",
    "stops = stopwords.words(\"english\")\n",
    "\n",
    "def normalize(comment):\n",
    "    comment = comment.lower()\n",
    "    comment = nlp(comment)\n",
    "    lemmatized = list()\n",
    "    for word in comment:\n",
    "        lemma = word.lemma_.strip()\n",
    "        if lemma != '-PRON-': lemmatized.append(lemma)\n",
    "    return \" \".join(lemmatized)"
   ]
  },
  {
   "cell_type": "markdown",
   "metadata": {
    "collapsed": true
   },
   "source": [
    "<a id='train'></a>\n",
    "## Wikipedia Training and Testing Data\n",
    "Now that we have a functioning spell-check, we can begin working with data and training our model. Let's take a look at this pre-labeled data set. This data set was used in a contest on toxcitiy in wikipedia comments."
   ]
  },
  {
   "cell_type": "code",
   "execution_count": 368,
   "metadata": {
    "scrolled": false
   },
   "outputs": [
    {
     "data": {
      "text/html": [
       "<div>\n",
       "<style>\n",
       "    .dataframe thead tr:only-child th {\n",
       "        text-align: right;\n",
       "    }\n",
       "\n",
       "    .dataframe thead th {\n",
       "        text-align: left;\n",
       "    }\n",
       "\n",
       "    .dataframe tbody tr th {\n",
       "        vertical-align: top;\n",
       "    }\n",
       "</style>\n",
       "<table border=\"1\" class=\"dataframe\">\n",
       "  <thead>\n",
       "    <tr style=\"text-align: right;\">\n",
       "      <th></th>\n",
       "      <th>id</th>\n",
       "      <th>comment_text</th>\n",
       "      <th>toxic</th>\n",
       "      <th>severe_toxic</th>\n",
       "      <th>obscene</th>\n",
       "      <th>threat</th>\n",
       "      <th>insult</th>\n",
       "      <th>identity_hate</th>\n",
       "    </tr>\n",
       "  </thead>\n",
       "  <tbody>\n",
       "    <tr>\n",
       "      <th>0</th>\n",
       "      <td>0000997932d777bf</td>\n",
       "      <td>Explanation\\nWhy the edits made under my usern...</td>\n",
       "      <td>0</td>\n",
       "      <td>0</td>\n",
       "      <td>0</td>\n",
       "      <td>0</td>\n",
       "      <td>0</td>\n",
       "      <td>0</td>\n",
       "    </tr>\n",
       "    <tr>\n",
       "      <th>1</th>\n",
       "      <td>000103f0d9cfb60f</td>\n",
       "      <td>D'aww! He matches this background colour I'm s...</td>\n",
       "      <td>0</td>\n",
       "      <td>0</td>\n",
       "      <td>0</td>\n",
       "      <td>0</td>\n",
       "      <td>0</td>\n",
       "      <td>0</td>\n",
       "    </tr>\n",
       "    <tr>\n",
       "      <th>2</th>\n",
       "      <td>000113f07ec002fd</td>\n",
       "      <td>Hey man, I'm really not trying to edit war. It...</td>\n",
       "      <td>0</td>\n",
       "      <td>0</td>\n",
       "      <td>0</td>\n",
       "      <td>0</td>\n",
       "      <td>0</td>\n",
       "      <td>0</td>\n",
       "    </tr>\n",
       "    <tr>\n",
       "      <th>3</th>\n",
       "      <td>0001b41b1c6bb37e</td>\n",
       "      <td>\"\\nMore\\nI can't make any real suggestions on ...</td>\n",
       "      <td>0</td>\n",
       "      <td>0</td>\n",
       "      <td>0</td>\n",
       "      <td>0</td>\n",
       "      <td>0</td>\n",
       "      <td>0</td>\n",
       "    </tr>\n",
       "    <tr>\n",
       "      <th>4</th>\n",
       "      <td>0001d958c54c6e35</td>\n",
       "      <td>You, sir, are my hero. Any chance you remember...</td>\n",
       "      <td>0</td>\n",
       "      <td>0</td>\n",
       "      <td>0</td>\n",
       "      <td>0</td>\n",
       "      <td>0</td>\n",
       "      <td>0</td>\n",
       "    </tr>\n",
       "    <tr>\n",
       "      <th>5</th>\n",
       "      <td>00025465d4725e87</td>\n",
       "      <td>\"\\n\\nCongratulations from me as well, use the ...</td>\n",
       "      <td>0</td>\n",
       "      <td>0</td>\n",
       "      <td>0</td>\n",
       "      <td>0</td>\n",
       "      <td>0</td>\n",
       "      <td>0</td>\n",
       "    </tr>\n",
       "    <tr>\n",
       "      <th>6</th>\n",
       "      <td>0002bcb3da6cb337</td>\n",
       "      <td>COCKSUCKER BEFORE YOU PISS AROUND ON MY WORK</td>\n",
       "      <td>1</td>\n",
       "      <td>1</td>\n",
       "      <td>1</td>\n",
       "      <td>0</td>\n",
       "      <td>1</td>\n",
       "      <td>0</td>\n",
       "    </tr>\n",
       "  </tbody>\n",
       "</table>\n",
       "</div>"
      ],
      "text/plain": [
       "                 id                                       comment_text  toxic  \\\n",
       "0  0000997932d777bf  Explanation\\nWhy the edits made under my usern...      0   \n",
       "1  000103f0d9cfb60f  D'aww! He matches this background colour I'm s...      0   \n",
       "2  000113f07ec002fd  Hey man, I'm really not trying to edit war. It...      0   \n",
       "3  0001b41b1c6bb37e  \"\\nMore\\nI can't make any real suggestions on ...      0   \n",
       "4  0001d958c54c6e35  You, sir, are my hero. Any chance you remember...      0   \n",
       "5  00025465d4725e87  \"\\n\\nCongratulations from me as well, use the ...      0   \n",
       "6  0002bcb3da6cb337       COCKSUCKER BEFORE YOU PISS AROUND ON MY WORK      1   \n",
       "\n",
       "   severe_toxic  obscene  threat  insult  identity_hate  \n",
       "0             0        0       0       0              0  \n",
       "1             0        0       0       0              0  \n",
       "2             0        0       0       0              0  \n",
       "3             0        0       0       0              0  \n",
       "4             0        0       0       0              0  \n",
       "5             0        0       0       0              0  \n",
       "6             1        1       0       1              0  "
      ]
     },
     "execution_count": 368,
     "metadata": {},
     "output_type": "execute_result"
    }
   ],
   "source": [
    "train = pd.read_csv('train_1000.csv')\n",
    "train.head(n=7)"
   ]
  },
  {
   "cell_type": "markdown",
   "metadata": {},
   "source": [
    "Now we will create a column for overall player toxicity. This column is named \"clean\" which is True if the commenter's words are clean non-toxic. We then sperate the data into our x-values, the comments, and y-values, the binary variable for toxicity. "
   ]
  },
  {
   "cell_type": "code",
   "execution_count": 369,
   "metadata": {},
   "outputs": [
    {
     "data": {
      "text/html": [
       "<div>\n",
       "<style>\n",
       "    .dataframe thead tr:only-child th {\n",
       "        text-align: right;\n",
       "    }\n",
       "\n",
       "    .dataframe thead th {\n",
       "        text-align: left;\n",
       "    }\n",
       "\n",
       "    .dataframe tbody tr th {\n",
       "        vertical-align: top;\n",
       "    }\n",
       "</style>\n",
       "<table border=\"1\" class=\"dataframe\">\n",
       "  <thead>\n",
       "    <tr style=\"text-align: right;\">\n",
       "      <th></th>\n",
       "      <th>toxic</th>\n",
       "      <th>severe_toxic</th>\n",
       "      <th>obscene</th>\n",
       "      <th>threat</th>\n",
       "      <th>insult</th>\n",
       "      <th>identity_hate</th>\n",
       "      <th>clean</th>\n",
       "    </tr>\n",
       "    <tr>\n",
       "      <th>id</th>\n",
       "      <th></th>\n",
       "      <th></th>\n",
       "      <th></th>\n",
       "      <th></th>\n",
       "      <th></th>\n",
       "      <th></th>\n",
       "      <th></th>\n",
       "    </tr>\n",
       "  </thead>\n",
       "  <tbody>\n",
       "    <tr>\n",
       "      <th>0000997932d777bf</th>\n",
       "      <td>0</td>\n",
       "      <td>0</td>\n",
       "      <td>0</td>\n",
       "      <td>0</td>\n",
       "      <td>0</td>\n",
       "      <td>0</td>\n",
       "      <td>True</td>\n",
       "    </tr>\n",
       "    <tr>\n",
       "      <th>000103f0d9cfb60f</th>\n",
       "      <td>0</td>\n",
       "      <td>0</td>\n",
       "      <td>0</td>\n",
       "      <td>0</td>\n",
       "      <td>0</td>\n",
       "      <td>0</td>\n",
       "      <td>True</td>\n",
       "    </tr>\n",
       "    <tr>\n",
       "      <th>000113f07ec002fd</th>\n",
       "      <td>0</td>\n",
       "      <td>0</td>\n",
       "      <td>0</td>\n",
       "      <td>0</td>\n",
       "      <td>0</td>\n",
       "      <td>0</td>\n",
       "      <td>True</td>\n",
       "    </tr>\n",
       "    <tr>\n",
       "      <th>0001b41b1c6bb37e</th>\n",
       "      <td>0</td>\n",
       "      <td>0</td>\n",
       "      <td>0</td>\n",
       "      <td>0</td>\n",
       "      <td>0</td>\n",
       "      <td>0</td>\n",
       "      <td>True</td>\n",
       "    </tr>\n",
       "    <tr>\n",
       "      <th>0001d958c54c6e35</th>\n",
       "      <td>0</td>\n",
       "      <td>0</td>\n",
       "      <td>0</td>\n",
       "      <td>0</td>\n",
       "      <td>0</td>\n",
       "      <td>0</td>\n",
       "      <td>True</td>\n",
       "    </tr>\n",
       "    <tr>\n",
       "      <th>00025465d4725e87</th>\n",
       "      <td>0</td>\n",
       "      <td>0</td>\n",
       "      <td>0</td>\n",
       "      <td>0</td>\n",
       "      <td>0</td>\n",
       "      <td>0</td>\n",
       "      <td>True</td>\n",
       "    </tr>\n",
       "    <tr>\n",
       "      <th>0002bcb3da6cb337</th>\n",
       "      <td>1</td>\n",
       "      <td>1</td>\n",
       "      <td>1</td>\n",
       "      <td>0</td>\n",
       "      <td>1</td>\n",
       "      <td>0</td>\n",
       "      <td>False</td>\n",
       "    </tr>\n",
       "  </tbody>\n",
       "</table>\n",
       "</div>"
      ],
      "text/plain": [
       "                  toxic  severe_toxic  obscene  threat  insult  identity_hate  \\\n",
       "id                                                                              \n",
       "0000997932d777bf      0             0        0       0       0              0   \n",
       "000103f0d9cfb60f      0             0        0       0       0              0   \n",
       "000113f07ec002fd      0             0        0       0       0              0   \n",
       "0001b41b1c6bb37e      0             0        0       0       0              0   \n",
       "0001d958c54c6e35      0             0        0       0       0              0   \n",
       "00025465d4725e87      0             0        0       0       0              0   \n",
       "0002bcb3da6cb337      1             1        1       0       1              0   \n",
       "\n",
       "                  clean  \n",
       "id                       \n",
       "0000997932d777bf   True  \n",
       "000103f0d9cfb60f   True  \n",
       "000113f07ec002fd   True  \n",
       "0001b41b1c6bb37e   True  \n",
       "0001d958c54c6e35   True  \n",
       "00025465d4725e87   True  \n",
       "0002bcb3da6cb337  False  "
      ]
     },
     "execution_count": 369,
     "metadata": {},
     "output_type": "execute_result"
    }
   ],
   "source": [
    "#Let's separate the data itself and the target class labels into separate variables.\n",
    "train.index = train['id']\n",
    "x_train = train['comment_text']\n",
    "y = train.iloc[:, 2:]\n",
    "\n",
    "y['clean']= 1 - y.sum(axis=1) >= 1  #adding a column for if the data is clean\n",
    "y_train = y['clean']\n",
    "y.head(n=7)"
   ]
  },
  {
   "cell_type": "markdown",
   "metadata": {},
   "source": [
    "#### Training Data"
   ]
  },
  {
   "cell_type": "code",
   "execution_count": 370,
   "metadata": {},
   "outputs": [
    {
     "data": {
      "text/plain": [
       "id\n",
       "0000997932d777bf    Explanation\\nWhy the edits made under my usern...\n",
       "000103f0d9cfb60f    D'aww! He matches this background colour I'm s...\n",
       "000113f07ec002fd    Hey man, I'm really not trying to edit war. It...\n",
       "0001b41b1c6bb37e    \"\\nMore\\nI can't make any real suggestions on ...\n",
       "0001d958c54c6e35    You, sir, are my hero. Any chance you remember...\n",
       "00025465d4725e87    \"\\n\\nCongratulations from me as well, use the ...\n",
       "0002bcb3da6cb337         COCKSUCKER BEFORE YOU PISS AROUND ON MY WORK\n",
       "Name: comment_text, dtype: object"
      ]
     },
     "execution_count": 370,
     "metadata": {},
     "output_type": "execute_result"
    }
   ],
   "source": [
    "x_train.head(n=7)"
   ]
  },
  {
   "cell_type": "code",
   "execution_count": 371,
   "metadata": {},
   "outputs": [
    {
     "data": {
      "text/plain": [
       "id\n",
       "0000997932d777bf     True\n",
       "000103f0d9cfb60f     True\n",
       "000113f07ec002fd     True\n",
       "0001b41b1c6bb37e     True\n",
       "0001d958c54c6e35     True\n",
       "00025465d4725e87     True\n",
       "0002bcb3da6cb337    False\n",
       "Name: clean, dtype: bool"
      ]
     },
     "execution_count": 371,
     "metadata": {},
     "output_type": "execute_result"
    }
   ],
   "source": [
    "y_train.head(n=7)"
   ]
  },
  {
   "cell_type": "markdown",
   "metadata": {},
   "source": [
    "#### Testing Data"
   ]
  },
  {
   "cell_type": "code",
   "execution_count": 372,
   "metadata": {},
   "outputs": [],
   "source": [
    "test = pd.read_csv('train_2000.csv')\n",
    "test.index = test['id']\n",
    "\n",
    "x_test = test['comment_text']\n",
    "y_test = test.iloc[:, 2:]\n",
    "\n",
    "y_test = 1 - y_test.sum(axis=1) >= 1  #adding a column for if the data is clean"
   ]
  },
  {
   "cell_type": "code",
   "execution_count": 373,
   "metadata": {},
   "outputs": [
    {
     "data": {
      "text/html": [
       "<div>\n",
       "<style>\n",
       "    .dataframe thead tr:only-child th {\n",
       "        text-align: right;\n",
       "    }\n",
       "\n",
       "    .dataframe thead th {\n",
       "        text-align: left;\n",
       "    }\n",
       "\n",
       "    .dataframe tbody tr th {\n",
       "        vertical-align: top;\n",
       "    }\n",
       "</style>\n",
       "<table border=\"1\" class=\"dataframe\">\n",
       "  <thead>\n",
       "    <tr style=\"text-align: right;\">\n",
       "      <th></th>\n",
       "      <th>comment_text</th>\n",
       "    </tr>\n",
       "    <tr>\n",
       "      <th>id</th>\n",
       "      <th></th>\n",
       "    </tr>\n",
       "  </thead>\n",
       "  <tbody>\n",
       "    <tr>\n",
       "      <th>00a9d33dea92c45c</th>\n",
       "      <td>We descendants of Otman Baba trough Mehmed Ali...</td>\n",
       "    </tr>\n",
       "    <tr>\n",
       "      <th>00ab1b314832a2d9</th>\n",
       "      <td>Could you clarify?  Do you want me to start an...</td>\n",
       "    </tr>\n",
       "    <tr>\n",
       "      <th>00ab65775c601cf9</th>\n",
       "      <td>Atheism is full of bias shit</td>\n",
       "    </tr>\n",
       "    <tr>\n",
       "      <th>00aba7c4e1446fd5</th>\n",
       "      <td>\"\\n\\n You beat me to it. \\n\\nJust wanted to sa...</td>\n",
       "    </tr>\n",
       "    <tr>\n",
       "      <th>00ac1b5af6c85483</th>\n",
       "      <td>You removed the link to the same references us...</td>\n",
       "    </tr>\n",
       "    <tr>\n",
       "      <th>00aca5068fb3fd6c</th>\n",
       "      <td>Thanks for that. I'll take a deep breath and h...</td>\n",
       "    </tr>\n",
       "    <tr>\n",
       "      <th>00ad06b94e4aafd2</th>\n",
       "      <td>German Article of the day\\n\\nDear Jimbo, Germa...</td>\n",
       "    </tr>\n",
       "  </tbody>\n",
       "</table>\n",
       "</div>"
      ],
      "text/plain": [
       "                                                       comment_text\n",
       "id                                                                 \n",
       "00a9d33dea92c45c  We descendants of Otman Baba trough Mehmed Ali...\n",
       "00ab1b314832a2d9  Could you clarify?  Do you want me to start an...\n",
       "00ab65775c601cf9                       Atheism is full of bias shit\n",
       "00aba7c4e1446fd5  \"\\n\\n You beat me to it. \\n\\nJust wanted to sa...\n",
       "00ac1b5af6c85483  You removed the link to the same references us...\n",
       "00aca5068fb3fd6c  Thanks for that. I'll take a deep breath and h...\n",
       "00ad06b94e4aafd2  German Article of the day\\n\\nDear Jimbo, Germa..."
      ]
     },
     "execution_count": 373,
     "metadata": {},
     "output_type": "execute_result"
    }
   ],
   "source": [
    "x_test.to_frame().head(n=7)"
   ]
  },
  {
   "cell_type": "code",
   "execution_count": 374,
   "metadata": {},
   "outputs": [
    {
     "data": {
      "text/html": [
       "<div>\n",
       "<style>\n",
       "    .dataframe thead tr:only-child th {\n",
       "        text-align: right;\n",
       "    }\n",
       "\n",
       "    .dataframe thead th {\n",
       "        text-align: left;\n",
       "    }\n",
       "\n",
       "    .dataframe tbody tr th {\n",
       "        vertical-align: top;\n",
       "    }\n",
       "</style>\n",
       "<table border=\"1\" class=\"dataframe\">\n",
       "  <thead>\n",
       "    <tr style=\"text-align: right;\">\n",
       "      <th></th>\n",
       "      <th>0</th>\n",
       "    </tr>\n",
       "    <tr>\n",
       "      <th>id</th>\n",
       "      <th></th>\n",
       "    </tr>\n",
       "  </thead>\n",
       "  <tbody>\n",
       "    <tr>\n",
       "      <th>00a9d33dea92c45c</th>\n",
       "      <td>True</td>\n",
       "    </tr>\n",
       "    <tr>\n",
       "      <th>00ab1b314832a2d9</th>\n",
       "      <td>True</td>\n",
       "    </tr>\n",
       "    <tr>\n",
       "      <th>00ab65775c601cf9</th>\n",
       "      <td>False</td>\n",
       "    </tr>\n",
       "    <tr>\n",
       "      <th>00aba7c4e1446fd5</th>\n",
       "      <td>True</td>\n",
       "    </tr>\n",
       "    <tr>\n",
       "      <th>00ac1b5af6c85483</th>\n",
       "      <td>True</td>\n",
       "    </tr>\n",
       "    <tr>\n",
       "      <th>00aca5068fb3fd6c</th>\n",
       "      <td>True</td>\n",
       "    </tr>\n",
       "    <tr>\n",
       "      <th>00ad06b94e4aafd2</th>\n",
       "      <td>True</td>\n",
       "    </tr>\n",
       "  </tbody>\n",
       "</table>\n",
       "</div>"
      ],
      "text/plain": [
       "                      0\n",
       "id                     \n",
       "00a9d33dea92c45c   True\n",
       "00ab1b314832a2d9   True\n",
       "00ab65775c601cf9  False\n",
       "00aba7c4e1446fd5   True\n",
       "00ac1b5af6c85483   True\n",
       "00aca5068fb3fd6c   True\n",
       "00ad06b94e4aafd2   True"
      ]
     },
     "execution_count": 374,
     "metadata": {},
     "output_type": "execute_result"
    }
   ],
   "source": [
    "y_test.to_frame().head(n=7)"
   ]
  },
  {
   "cell_type": "markdown",
   "metadata": {},
   "source": [
    "### Cleaning the Training and Testing Data"
   ]
  },
  {
   "cell_type": "code",
   "execution_count": 375,
   "metadata": {
    "collapsed": true
   },
   "outputs": [],
   "source": [
    "x_train_clean = x_train.apply(normalize)\n",
    "#x_train_clean.to_frame().head(n=7)\n",
    "x_test_clean = x_test.apply(normalize)"
   ]
  },
  {
   "cell_type": "markdown",
   "metadata": {},
   "source": [
    "<a id='tf-idf'></a>\n",
    "### TF_IDF - Creating Features"
   ]
  },
  {
   "cell_type": "code",
   "execution_count": 376,
   "metadata": {},
   "outputs": [],
   "source": [
    "def create_features(x):\n",
    "    words = []\n",
    "    for row in x:\n",
    "        words.append((str(row)))\n",
    "    tf_idf = sklearn.feature_extraction.text.TfidfVectorizer()\n",
    "    return (tf_idf, tf_idf.fit_transform(words))\n",
    "\n",
    "(tfidf, X) = create_features(x_train_clean)"
   ]
  },
  {
   "cell_type": "markdown",
   "metadata": {},
   "source": [
    "<a id='svm_train'></a>\n",
    "### SVM_Training"
   ]
  },
  {
   "cell_type": "code",
   "execution_count": 377,
   "metadata": {},
   "outputs": [],
   "source": [
    "def learn_SVM_classifier(X_train, y_train, kernel='linear'):\n",
    "    return sklearn.svm.classes.SVC(kernel=kernel).fit(X_train, np.array(y_train))\n",
    "\n",
    "svm_classifier = learn_SVM_classifier(X, y_train)"
   ]
  },
  {
   "cell_type": "markdown",
   "metadata": {},
   "source": [
    "#### Validating SVM Training"
   ]
  },
  {
   "cell_type": "code",
   "execution_count": 378,
   "metadata": {},
   "outputs": [
    {
     "data": {
      "text/plain": [
       "0.9176829268292683"
      ]
     },
     "execution_count": 378,
     "metadata": {},
     "output_type": "execute_result"
    }
   ],
   "source": [
    "words = []\n",
    "for row in x_test_clean:\n",
    "    words.append((str(row)))\n",
    "X_trans = tfidf.transform(words)\n",
    "\n",
    "svm_classifier.score(X_trans, y_test)"
   ]
  },
  {
   "cell_type": "markdown",
   "metadata": {},
   "source": [
    "This is quite a high accurary."
   ]
  },
  {
   "cell_type": "markdown",
   "metadata": {},
   "source": [
    "<a id='bayes_train'></a>\n",
    "### Naive Bayes Training"
   ]
  },
  {
   "cell_type": "code",
   "execution_count": 379,
   "metadata": {},
   "outputs": [],
   "source": [
    "def learnbayes_classifier(X_train, y_train):\n",
    "    clf = BernoulliNB()\n",
    "    return clf.fit(X_train, y_train)\n",
    "\n",
    "bayes_classifier = learnbayes_classifier(X, y_train)"
   ]
  },
  {
   "cell_type": "markdown",
   "metadata": {},
   "source": [
    "<a id='threading'></a>\n",
    "### Cleaning and Normalizing the DOTA data - Threading\n",
    "\n",
    "Because the cleaning and normalizing functin takes a while, we implemented threading to get this done slightly faster."
   ]
  },
  {
   "cell_type": "code",
   "execution_count": null,
   "metadata": {},
   "outputs": [
    {
     "name": "stdout",
     "output_type": "stream",
     "text": [
      "finished player 376700941\n",
      "finished player 180092949finished player 137887779\n",
      "\n",
      "finished player 289931316\n",
      "finished player 158072895finished player 293863497\n",
      "\n",
      "finished player 104857684\n",
      "finished player 233046129\n",
      "finished player 137101401\n",
      "finished player 425721991\n",
      "finished player 153747520\n",
      "finished player 412352666finished player 171835567\n",
      "finished player 148897973\n",
      "\n",
      "finished player 141689025finished player 844628158finished player 224133306finished player 140902535\n",
      "\n",
      "\n",
      "\n",
      "finished player 126877905finished player 321519808\n",
      "\n",
      "finished player 415498488finished player 294387944finished player 416284931finished player 11796746\n",
      "\n",
      "\n",
      "finished player 131465485finished player 70778979\n",
      "\n",
      "\n",
      "finished player 209584217\n",
      "finished player 239862023finished player 326369597finished player 146145597finished player 298975491finished player 255983935finished player 218104135finished player 312737963\n",
      "\n",
      "\n",
      "\n",
      "\n",
      "\n",
      "\n",
      "finished player 142737431finished player 58458492finished player 135397758\n",
      "\n",
      "\n",
      "finished player 92799367finished player 103940506finished player 233832806finished player 127533441finished player 384958807finished player 62652456finished player 174195072\n",
      "\n",
      "\n",
      "\n",
      "\n",
      "finished player 373424192finished player 147849650finished player 232522186finished player 230686737finished player 250610084\n",
      "\n",
      "\n",
      "\n",
      "\n",
      "finished player 300024223finished player 244056572\n",
      "\n",
      "finished player 143131122\n",
      "finished player 208011788finished player 358613517\n",
      "\n",
      "finished player 413532335finished player 119275707finished player 339476917\n",
      "\n",
      "\n",
      "\n",
      "finished player 165413433finished player 256508197finished player 481689794finished player 261095908finished player 184418832\n",
      "\n",
      "\n",
      "finished player 392954279\n",
      "\n",
      "finished player 136577553finished player 423100650\n",
      "\n",
      "\n",
      "finished player 169869786\n",
      "\n",
      "finished player 12976461finished player 324141439finished player 100794670\n",
      "\n",
      "finished player 308150716finished player 125305146\n",
      "\n",
      "finished player 230949010\n",
      "\n",
      "finished player 404095054\n",
      "finished player 163315944\n",
      "finished player 70910059\n",
      "finished player 151912585\n",
      "finished player 249430459\n",
      "finished player 365560092\n",
      "finished player 138018925\n",
      "finished player 409600383\n",
      "finished player 112329138\n",
      "finished player 83493293\n",
      "finished player 58065249\n",
      "finished player 118358216\n",
      "finished player 138543506\n",
      "finished player 159383663finished player 370016570\n",
      "\n",
      "finished player 295567377finished player 232915283finished player 84410906\n",
      "\n",
      "finished player 254542231\n",
      "\n",
      "finished player 341049477\n",
      "finished player 131072411finished player 405274654\n",
      "\n",
      "finished player 285213122\n",
      "finished player 18874380\n",
      "finished player 379715696\n",
      "finished player 377094226\n",
      "finished player 850526414finished player 124387370\n",
      "finished player 167641385\n",
      "\n",
      "finished player 116654092finished player 130154772\n",
      "\n",
      "finished player 192675876\n",
      "finished player 428867916\n",
      "finished player 287834122finished player 139460869\n",
      "\n",
      "finished player 255459527\n",
      "finished player 199360784\n",
      "finished player 120717877\n",
      "finished player 140247176\n",
      "finished player 154534307\n",
      "finished player 132251834\n",
      "finished player 401473586\n",
      "finished player 197394969\n",
      "finished player 145490292\n",
      "finished player 404881827\n",
      "finished player 291897660\n",
      "finished player 204865854\n",
      "finished player 298713432\n",
      "finished player 208011557\n",
      "finished player 405537333\n",
      "finished player 203948272\n",
      "finished player 64094321\n",
      "finished player 251396252finished player 106561585\n",
      "\n",
      "finished player 218103857\n",
      "finished player 112459995\n",
      "finished player 31981823\n",
      "finished player 85065746\n",
      "finished player 219021381\n",
      "finished player 206438467\n",
      "finished player 376570053\n",
      "finished player 372899947\n",
      "finished player 249561120\n",
      "finished player 47055125\n",
      "finished player 155320523\n",
      "finished player 143655028\n",
      "finished player 33030667\n",
      "finished player 12321227\n",
      "finished player 290587184\n",
      "finished player 86769704\n",
      "finished player 124125543\n",
      "finished player 14549403\n",
      "finished player 294518837\n",
      "finished player 91488319\n",
      "finished player 459407864\n",
      "finished player 158859521\n",
      "finished player 125698128\n",
      "finished player 155975955\n",
      "finished player 375259174\n"
     ]
    }
   ],
   "source": [
    "player_x = {}\n",
    "\n",
    "class PlayerThread(threading.Thread):\n",
    "    def __init__(self, player):\n",
    "        threading.Thread.__init__(self)\n",
    "        self.player = player\n",
    "    def run(self):\n",
    "        player_text = \" \"\n",
    "        for key in complete_word_cloud[self.player]:\n",
    "            if key not in game_words:\n",
    "                key = spell_check(key)\n",
    "            player_text = player_text + key + \" \"\n",
    "        player_x[self.player] = player_text\n",
    "        print('finished player ' + str(self.player))\n",
    "\n",
    "threads = [PlayerThread(player) for player in complete_word_cloud]\n",
    "\n",
    "# Start new Threads\n",
    "for t in threads: t.start()\n",
    "\n",
    "# Wait for all threads to complete\n",
    "for t in threads:\n",
    "    t.join()\n",
    "\n",
    "with open(\"player_x.json\", 'w') as f:\n",
    "    json.dump(player_x, f)"
   ]
  },
  {
   "cell_type": "code",
   "execution_count": 381,
   "metadata": {
    "collapsed": true
   },
   "outputs": [],
   "source": []
  },
  {
   "cell_type": "code",
   "execution_count": 382,
   "metadata": {},
   "outputs": [],
   "source": [
    "for player in player_x:\n",
    "    text = player_x[player]\n",
    "    player_x[player] = normalize(text)\n",
    "\n",
    "X_player = [player_x[p] for p in player_x]"
   ]
  },
  {
   "cell_type": "markdown",
   "metadata": {},
   "source": [
    "<a id='prediction'></a>\n",
    "### SVM Prediction"
   ]
  },
  {
   "cell_type": "code",
   "execution_count": 383,
   "metadata": {},
   "outputs": [
    {
     "name": "stdout",
     "output_type": "stream",
     "text": [
      "[ True  True  True  True  True  True  True  True  True  True  True  True\n",
      "  True  True  True  True  True  True  True  True  True  True  True  True\n",
      "  True  True  True  True  True  True  True  True  True  True  True  True\n",
      "  True  True False  True  True False  True False]\n"
     ]
    }
   ],
   "source": [
    "#is the player non-toxic?\n",
    "def SVMclassify_players(tfidf, svm_classifier, words):\n",
    "    X = tfidf.transform(words)\n",
    "    return svm_classifier.predict(X)\n",
    "\n",
    "SVM_y_pred = SVMclassify_players(tfidf, svm_classifier, X_player)\n",
    "print(SVM_y_pred)"
   ]
  },
  {
   "cell_type": "markdown",
   "metadata": {},
   "source": [
    "### Naive Bayes Prediction"
   ]
  },
  {
   "cell_type": "code",
   "execution_count": 388,
   "metadata": {},
   "outputs": [
    {
     "name": "stdout",
     "output_type": "stream",
     "text": [
      "44\n",
      "[ True  True  True  True  True  True  True  True  True  True  True  True\n",
      "  True  True  True  True  True  True  True  True  True  True  True  True\n",
      "  True  True  True  True  True  True  True False  True False  True False\n",
      "  True False False False False False False  True]\n"
     ]
    }
   ],
   "source": [
    "#is the player non-toxic?\n",
    "def BAYESclassify_players(tfidf, bayes_classifier, words):\n",
    "    X = tfidf.transform(words)\n",
    "    return bayes_classifier.predict(X)\n",
    "\n",
    "bayes_y_pred = BAYESclassify_players(tfidf, bayes_classifier, X_player)\n",
    "print(len(bayes_y_pred))\n",
    "print(bayes_y_pred)"
   ]
  },
  {
   "cell_type": "markdown",
   "metadata": {},
   "source": [
    "<a id='visuals'></a>\n",
    "### Word Cloud"
   ]
  },
  {
   "cell_type": "code",
   "execution_count": 389,
   "metadata": {},
   "outputs": [
    {
     "data": {
      "image/png": "[encoded data removed]",
      "text/plain": [
       "<matplotlib.figure.Figure at 0x1a15e13438>"
      ]
     },
     "metadata": {},
     "output_type": "display_data"
    }
   ],
   "source": [
    "stopwords = stops\n",
    "\n",
    "text = \"\"\n",
    "for player in complete_word_cloud:\n",
    "    for word in complete_word_cloud[player]:\n",
    "        frequency = (complete_word_cloud[player])[word]\n",
    "        text = text + (word.strip() + \" \")\n",
    "\n",
    "def show_wordcloud(data, title = 'Common Words in Chats'):\n",
    "    wordcloud = WordCloud(\n",
    "        background_color='white',\n",
    "        stopwords=stopwords,\n",
    "        max_words=100,\n",
    "        max_font_size=60,\n",
    "        scale=10,\n",
    "        random_state=1 # chosen at random by flipping a coin; it was heads\n",
    "    ).generate(str(data))\n",
    "\n",
    "    fig = plt.figure(1, figsize=(12, 12))\n",
    "    plt.axis('off')\n",
    "    if title:\n",
    "        fig.suptitle(title, fontsize=20)\n",
    "        fig.subplots_adjust(top=2.3)\n",
    "\n",
    "    plt.imshow(wordcloud)\n",
    "    plt.show()\n",
    "\n",
    "show_wordcloud(text)\n"
   ]
  },
  {
   "cell_type": "markdown",
   "metadata": {},
   "source": [
    "### HISTOGRAMS"
   ]
  },
  {
   "cell_type": "code",
   "execution_count": 391,
   "metadata": {},
   "outputs": [
    {
     "name": "stdout",
     "output_type": "stream",
     "text": [
      "168\n"
     ]
    },
    {
     "ename": "IndexError",
     "evalue": "index 44 is out of bounds for axis 0 with size 44",
     "output_type": "error",
     "traceback": [
      "\u001b[0;31m---------------------------------------------------------------------------\u001b[0m",
      "\u001b[0;31mIndexError\u001b[0m                                Traceback (most recent call last)",
      "\u001b[0;32m<ipython-input-391-62277953b80c>\u001b[0m in \u001b[0;36m<module>\u001b[0;34m()\u001b[0m\n\u001b[1;32m      8\u001b[0m \u001b[0;34m\u001b[0m\u001b[0m\n\u001b[1;32m      9\u001b[0m \u001b[0;32mfor\u001b[0m \u001b[0mi\u001b[0m \u001b[0;32min\u001b[0m \u001b[0mrange\u001b[0m\u001b[0;34m(\u001b[0m\u001b[0mlen\u001b[0m\u001b[0;34m(\u001b[0m\u001b[0mwin_rates\u001b[0m\u001b[0;34m)\u001b[0m\u001b[0;34m)\u001b[0m\u001b[0;34m:\u001b[0m\u001b[0;34m\u001b[0m\u001b[0m\n\u001b[0;32m---> 10\u001b[0;31m     \u001b[0;32mif\u001b[0m \u001b[0mSVM_y_pred\u001b[0m\u001b[0;34m[\u001b[0m\u001b[0mi\u001b[0m\u001b[0;34m]\u001b[0m\u001b[0;34m:\u001b[0m \u001b[0msvm_nontoxic\u001b[0m\u001b[0;34m.\u001b[0m\u001b[0mappend\u001b[0m\u001b[0;34m(\u001b[0m\u001b[0mwin_rates\u001b[0m\u001b[0;34m[\u001b[0m\u001b[0mi\u001b[0m\u001b[0;34m]\u001b[0m\u001b[0;34m)\u001b[0m\u001b[0;34m\u001b[0m\u001b[0m\n\u001b[0m\u001b[1;32m     11\u001b[0m     \u001b[0;32melse\u001b[0m\u001b[0;34m:\u001b[0m \u001b[0msvm_toxic\u001b[0m\u001b[0;34m.\u001b[0m\u001b[0mappend\u001b[0m\u001b[0;34m(\u001b[0m\u001b[0mwin_rates\u001b[0m\u001b[0;34m[\u001b[0m\u001b[0mi\u001b[0m\u001b[0;34m]\u001b[0m\u001b[0;34m)\u001b[0m\u001b[0;34m\u001b[0m\u001b[0m\n\u001b[1;32m     12\u001b[0m \u001b[0;34m\u001b[0m\u001b[0m\n",
      "\u001b[0;31mIndexError\u001b[0m: index 44 is out of bounds for axis 0 with size 44"
     ]
    }
   ],
   "source": [
    "win_rates = []\n",
    "for player in win_loss:\n",
    "    win_rate =(win_loss[player])['win'] / ((win_loss[player])['win'] + (win_loss[player])['lose'])\n",
    "    win_rates.append(win_rate)\n",
    "print(len(win_rates))\n",
    "\n",
    "svm_toxic, svm_nontoxic, bayes_toxic, bayes_nontoxic = [], [], [], []\n",
    "\n",
    "for i in range(len(win_rates)):\n",
    "    if SVM_y_pred[i]: svm_nontoxic.append(win_rates[i])\n",
    "    else: svm_toxic.append(win_rates[i])\n",
    "\n",
    "for i in range(len(win_rates)):\n",
    "    if bayes_y_pred[i]: bayes_nontoxic.append(win_rates[i])\n",
    "    else: bayes_toxic.append(win_rates[i])\n",
    "\n",
    "\n",
    "\n",
    "data = [svm_toxic, svm_nontoxic]\n",
    "\n",
    "fig, ax = plt.subplots()\n",
    "ax.boxplot(data)\n",
    "ax.set_xticklabels([\"toxic\", \"nontoxic\"])\n",
    "ax.set_title('Player Win Rates - (SVM Toxicity)')\n",
    "\n",
    "plt.show()\n",
    "\n",
    "data = [bayes_toxic, bayes_nontoxic]\n",
    "\n",
    "fig, ax = plt.subplots()\n",
    "ax.boxplot(data)\n",
    "ax.set_xticklabels([\"toxic\", \"nontoxic\"])\n",
    "ax.set_title('Player Win Rates - (Naive Bayes Toxicity)')\n",
    "\n",
    "plt.show()\n",
    "\n"
   ]
  },
  {
   "cell_type": "markdown",
   "metadata": {},
   "source": [
    "<a id='conclusions'></a>"
   ]
  },
  {
   "cell_type": "markdown",
   "metadata": {},
   "source": [
    "## Conclusions\n",
    "Overall it seems that the preliminary analysis of the DoTA data does not show a correlation between player toxicity and win rates. However, it seems that both models classified a larger number of players as not toxic. It is possible that the data set scraped from the opendota api did not include many toxic players. However, it is most likely that the Wikipedia data used for training was not similar to the language used in DoTA. In order to better quantify and predict player toxicty large data sets curated specifically from game play and hand labeled are necessary. Additionally it would be smart to use data from a variety of different games to see what causes and creates toxic environments."
   ]
  },
  {
   "cell_type": "markdown",
   "metadata": {},
   "source": [
    "<a id='resources'></a>"
   ]
  },
  {
   "cell_type": "markdown",
   "metadata": {},
   "source": [
    "## Resources"
   ]
  }
 ],
 "metadata": {
  "kernelspec": {
   "display_name": "Python 3",
   "language": "python",
   "name": "python3"
  },
  "language_info": {
   "codemirror_mode": {
    "name": "ipython",
    "version": 3
   },
   "file_extension": ".py",
   "mimetype": "text/x-python",
   "name": "python",
   "nbconvert_exporter": "python",
   "pygments_lexer": "ipython3",
   "version": "3.6.3"
  }
 },
 "nbformat": 4,
 "nbformat_minor": 2
}
